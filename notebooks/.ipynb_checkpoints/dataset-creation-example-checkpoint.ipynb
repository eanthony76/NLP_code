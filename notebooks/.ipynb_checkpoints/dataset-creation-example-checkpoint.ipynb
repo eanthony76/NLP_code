{
 "cells": [
  {
   "cell_type": "markdown",
   "id": "9444c94c",
   "metadata": {},
   "source": [
    "This notebook part two of three notebooks containing an example for training a BERT model using AWS Sagemaker"
   ]
  },
  {
   "cell_type": "markdown",
   "id": "3c8c22d6",
   "metadata": {},
   "source": [
    "## Package Imports"
   ]
  },
  {
   "cell_type": "code",
   "execution_count": 2,
   "id": "922a53fd",
   "metadata": {},
   "outputs": [],
   "source": [
    "from datasets import Dataset\n",
    "import pickle\n",
    "import pandas as pd\n",
    "import numpy as np"
   ]
  },
  {
   "cell_type": "markdown",
   "id": "9247799d",
   "metadata": {},
   "source": [
    "## Load Pickle File"
   ]
  },
  {
   "cell_type": "code",
   "execution_count": 18,
   "id": "3dc11580",
   "metadata": {},
   "outputs": [],
   "source": [
    "file = open('cnn_stories_clean.pkl', 'rb')\n",
    "df = pickle.load(file)"
   ]
  },
  {
   "cell_type": "markdown",
   "id": "3b1a71f3",
   "metadata": {},
   "source": [
    "Let's take a look at our DataFrame to see what else needs to be done before it is ready for use"
   ]
  },
  {
   "cell_type": "code",
   "execution_count": 19,
   "id": "25c6b14a",
   "metadata": {},
   "outputs": [
    {
     "data": {
      "text/plain": [
       "[\"Fernando Lugo says he's the father of a 2-year-old conceived when he was a bishop\",\n",
       " \"Announcement comes in the week after child's mother sued, seeking paternity test\",\n",
       " 'Some Cabinet members say paternity disclosure reflects government transparency',\n",
       " 'But opposition party member calls on Vatican to excommunicate Lugo']"
      ]
     },
     "execution_count": 19,
     "metadata": {},
     "output_type": "execute_result"
    }
   ],
   "source": [
    "df.highlight[0]"
   ]
  },
  {
   "cell_type": "markdown",
   "id": "b71b1930",
   "metadata": {},
   "source": [
    "Each article has multiple highlights attached to it. Let's expand our DataFrame to have each row contain one article and one summary"
   ]
  },
  {
   "cell_type": "code",
   "execution_count": 25,
   "id": "55583c2b",
   "metadata": {},
   "outputs": [],
   "source": [
    "new_df = pd.DataFrame({\n",
    "    'story': df['story'].repeat(df['highlight'].str.len()),\n",
    "    'highlight': [h for lst in df['highlight'] for h in lst]\n",
    "})\n",
    "df = new_df.reset_index().drop(columns='index')"
   ]
  },
  {
   "cell_type": "markdown",
   "id": "1a09c40f",
   "metadata": {},
   "source": [
    "We can use the .from_pandas function from Dataset to load in our dataframe and have the HuggingFace library turn it into our dataset"
   ]
  },
  {
   "cell_type": "code",
   "execution_count": 28,
   "id": "2f70c5c4",
   "metadata": {},
   "outputs": [],
   "source": [
    "dataset = Dataset.from_pandas(df)"
   ]
  },
  {
   "cell_type": "markdown",
   "id": "19ce992f",
   "metadata": {},
   "source": [
    "Finally, let's divide our dataset into train and test"
   ]
  },
  {
   "cell_type": "code",
   "execution_count": 29,
   "id": "88be3ba3",
   "metadata": {},
   "outputs": [],
   "source": [
    "dataset = dataset.train_test_split(test_size=0.2)"
   ]
  },
  {
   "cell_type": "markdown",
   "id": "637fedf7",
   "metadata": {},
   "source": [
    "Let's take a look at some of our examples to make sure that it created training examples that will be useful for us. We are going to train our T-5 model using summary-source pairs"
   ]
  },
  {
   "cell_type": "code",
   "execution_count": 31,
   "id": "ad2d388a",
   "metadata": {},
   "outputs": [
    {
     "name": "stdout",
     "output_type": "stream",
     "text": [
      "{'story': 'Federal drug agents discovered a 240-yard-long tunnel underneath the U.S.-Mexico border, and they suspect it was used to smuggle drugs into Arizona for sale in the United States, officials said Thursday.  The \"sophisticated drug smuggling tunnel,\" which runs 55 feet below ground, begins in an ice plant in San Luis Rio Colorado, Sonora, Mexico, and ends inside a one-story, nondescript building in San Luis, Arizona, according to the U.S. Drug Enforcement Administration.  Report: Focus on cops, not military  Investigators started watching the building in January \"after observing possible suspicious activity that indicated the site was being used as a potential stash location,\" the DEA said.  Arizona police found 39 pounds of methamphetamine inside a pickup truck stopped on Interstate 95 on July 6, which led them back to the San Luis, Arizona, building, the DEA said. They got a search warrant with that information.  Police in Arizona arrest 20, dismantle drug trafficking cell of Sinaloa Cartel  No drugs were found in the search of the ice plant or the building on the U.S. side, just bags and barrels of dirt, the DEA said.  Three unnamed suspects have been arrested in connection with the tunnel, the DEA said.  Interior Border Patrol stations closed  \"The recent discovery of this sophisticated drug smuggling tunnel is yet another reminder of how desperate these criminal organizations are and the extent they will go to further their drug dealing operations and endanger the security of our citizens,\" said Doug Coleman, the special agent in charge of the DEA\\'s Phoenix, Arizona, office.  In small-town USA, business as usual for Mexican cartels  ', 'highlight': 'Three unnamed suspects are in custody'}\n",
      "\n",
      "\n",
      "\n",
      "{'story': 'Do you know the mascot for South Dakota State? Can you come up with the all-time record for No. 16 seeds? How about the starting backcourt for the Michigan Wolverines?  No? Well, to prepare you for Selection Sunday and the three weeks of March Madness, here is an A to Z primer on the NCAA Tournament that will cap a wildly unpredictable season in college basketball.  A is for Anyone, which is pretty much who can claim the NCAA title. That doesn\\'t mean you should pick Libertywhich brings a 15-20 record into the tournamentin your office pool. But unlike one year ago, when Kentucky was heavily favored from the start of the season, there are a dozen teams that can legitimately say they have a chance to clip the nets in Atlanta in three weeks.  B is for Big East, which is splitting into three directions next year. The seven Catholic members are retaining the name and plan to add a few other top basketball schools. Syracuse and Pittsburgh are joining the Atlantic Coast Conference next season. And the remaining schools are combining with several newcomers to form a yet-to-be-named conference. Will the league that gave us Patrick Ewing and Villanova\\'s upset and the three Connecticut championships go out with one last hoorah? As usual, it will have a lot of chances, with as many as eight members in the field of 68.  C is for Creighton, and if you\\'re looking for a reason to pick the Bluejays in your office pool, look no further than Doug McDermott. The junior forward is the second leading scorer in the nation with 23.1 points a game.  D is for Duke, which will be looking for its fifth national title under Hall of Fame coach Mike Krzyzewskiand might be favored to get it. The Blue Devils went 27-4 despite missing center Ryan Kelly for seven weeks. Kelly scored a career-high 36 points in his return against Miami, the league\\'s regular season champion. If the Blue Devils were good without him, imagine what they might do with him.  E is for Eagles, which is the mascot for a lot of teams, of course, including NCAA Tournament newcomer Florida Gulf Coast. The Fort Myers, Florida, school was established in 1991 and had its first classes in 1997. The Eagles didn\\'t make the full transition to Division 1 athletics until 2011, in fact, so their arrival on the national stage this soon might be most surprising.  F is for Fuller, and that\\'s what the F in Stephen F. Austin stands for. Austin was known as the \"Father of Texas,\" and the college that bears his name is back in the tournament for the second time after winning the Southland Conference with a 26-3 record.  Bleacher Report: NCAA Bracket 2013 Predictions  G is for Golden Eagles, the nickname for Marquette. They tend to fly under the radar in the Big East, but once again colorful head coach Buzz Williams had them tied for the regular-season title. It seems like a matter of time before he takes this program back to the Final Four. Is this the year?  H is for Harvard, and after ending a 65-year NCAA Tournament drought last season, the Crimson is back in the field again. \"I just feel like the basketball gods have been on our side,\" Crimson player Christian Webster said, and Harvard might need them: The Ivy League has a 31-59 record in the tournament since 1957.  I is for Indiana, and this year, the mighty Hoosiers have stormed back on the national stage under head coach Tom Crean. They are the second in the nation in scoring at 80.8 points a game, led by sophomore forward Cody Zeller at 16.8 points and 8.1 rebounds. Will that mean a Final Four trip? If so, it\\'ll end an a long drought for one of the most loyal fan bases in the sport: The Hoosiers have just one Final Four appearance (2002) in the past 20 years.  J is for Jackrabbits, and while they do not normally inspire fear, if the matchup is right, they could make noise as a higher seed. South Dakota State is in the tournament for the second straight year.  K is for Kentucky, the defending national champs and most prominent bubble team in years. Are the Wildcats in? Or are the Wildcats out? Unless they win the SEC Tournament this weekend, they\\'ll be sweating out the selection show in Lexington. (Our guess: They\\'re inbarely.)  L is for Louisville, that other national power in the Bluegrass State. Can the Cardinals keep the NCAA title in-state? They\\'re certainly on a roll. They entered the Big East Tournament with wins in 10 of their last 11 games, and that single loss was to Notre Damein five overtimes.  Bleacher Report: Projecting Cinderella Teams That Will Make a Deep Run  M is for Michigan, and if you\\'re wondering why the Wolverines are back in contention for a national title, look no further than the backcourt. Trey Burke is a national player of the year candidate averaging 19.2 points and 6.8 assists a game, while Tim Hardaway Jr. adds 14.8 points and 4.7 rebounds.  N is for Notre Dame, and if you see the Fighting Irish in the tournament field, you\\'re probably going to wonder: What are they wearing? Adidas has provided several teams, including Cincinnati, Kansas and UCLA, with outfits that the Wall Street Journal described as \"the wrong kind of crazy.\" You\\'ll have to see for yourselves. Just don\\'t stare for long.  O is for Orange, and Syracuse is back in the field under head coach Jim Boeheim, as usual. But how many more years will the 68-year-old Boeheim, who won his 900th game, keep coaching? \"I never think about the next season until after the season,\" he said at the Big East Tournament, \"because during the season I want to quit every single game, even when we win.\"  P is for Porter, as in Georgetown forward Otto Porter, the Big East Player of the Year. Porter is one of the best stories in college basketball, a 6\\'8\" forward from a small Missouri town who had never stepped on an airplane before visiting the school\\'s Washington campus. Can he lead the Hoyas their first title since 1984?  Q is for Quixotic, which has been the quest for Quinnipiac to take its quintessential place as the Q in the A to Z. Come on, Bobcats. Get it done!  R is for Rameses, the horned mascot for North Carolina, who will be making an appearance this tournament after all. It didn\\'t look good for the perennial power Tar Heels for much of the season, but a six-game winning streak late in the season should ensure that head coach Roy Williams\\' team is back in the field.  S is for Sixteen, and if you\\'re an amateur bracketologist, you know that no No. 16 seed has ever won a game in the NCAA Tournament since it expanded to 64 teams in 1985. Is this the year of the upset to end all upsets? \"I think this is the year that a 16 could possibly beat a 1 for the first time,\" Louisville coach Rick Pitino said. Before you make that pick in your office pool, remember: The 16s are 0-112 all-time in the tournament.  T is for triple digits, and if you\\'re wondering how a James Madison team that is 234th in scoring, 254th in rebounds, 253rd in assists and 240th in field-goal percentage made the tournament field, well, that\\'s March. The Dukes got hot and won the Colonial Athletic Association Tournament.  U is for UCLA, which will be back in the field during the 75th anniversary of the NCAA Tournament. Sports Illustrated recently ranked the top 75 players in tournament history, and Nos. 1 and 2 belonged to the greatest dynasty in its history: Lew Alcindor and Bill Walton.  V is for Valparaiso, a Cinderella of old that\\'s back in the tournament for the first time since 2004. The Crusaders are coached by Bryce Drew, who hit the remarkable buzzer-beater to stun Ole Miss in the 1998 tournament. His father, Homer Drew, was the coach that year, and his brother, Scott Drew, coaches Baylor.  Bleacher Report: Breaking Down Top Sleeper Teams to Watch  W is for Western Kentucky, back in the NCAA Tournament field, and while its stay might not last long, its lovable amorphous mascot Big Red will have a chance to make One Shining Moment montage that airs after the national title game. And that is where he belongs.  X is for Xavier, which is in danger of missing the NCAA Tournament after reaching the field in 11 of the last 12 seasons. The Musketeers, who reached the Sweet 16 a year ago, are 17-13 this season in the Atlantic 10.  Y is for Youth, and as usual, plenty of young stars are on the top teams. Marcus Smart was voted Associated Press freshman of the year for leading Oklahoma State back to the NCAA Tournament after a two-year absence. Shabazz Muhammad (UCLA) and Ben McLemore (Kansas) are two other talented rookies to watch this year.  Z is for Zags, the unofficial nickname of the Gonzaga Bulldogs, and that won\\'t be a typo in your bracket. Once a plucky underdog, they are expected to be one of the No. 1 seeds when the field is revealed. Will they prove the selection committee was right with a run to their first Final Four? That will be determined over the next three weeks. That\\'s what makes this tournament so much fun.  ', 'highlight': 'Need help ushering in March Madness 2013? This primer explains your brackets'}\n",
      "\n",
      "\n",
      "\n",
      "{'story': '(RollingStone.com)Save for some bit roles in a smattering of unremarkable TV shows, the world hasn\\'t heard much from Ben Savage since 2000. That\\'s when his reign as Cory Matthews, the lovable goofball lead on the seminal Nineties sitcom \"Boy Meets World,\" came to an end. But last week, with one tweet, Savage returned to our lives: \"I\\'m going to be a father!\" the 32-year-old wrote. \"Well, on TV at least. The \\'Boy Meets World\\' sequel is officially happening!\"  Yes, much to the delight of twentysomething TGIF aficionados everywhere, \"Boy Meets World\" is getting a reboot. Titled \"Girl Meets World,\" the spinoff series, which is set to begin shooting in February and will air on the Disney Channel, stars both Savage and Danielle Fishel (as his wife, Topanga Lawrence) and follows the couple\\'s experience raising a 13-year-old daughter. Rolling Stone needed more answers, so we rang up Savage to find which, if any, old cast members would be returning, and how he\\'s preparing for impending fatherhood.  Rolling Stone: Congratulations are in order. What has life been like since the Girl Meets World announcement?  Ben Savage: It\\'s been pretty . . . I\\'m gonna say pretty exciting. Let\\'s leave it at that.  RS: Are you surprised at how insanely happy people are about this?  Savage: Well, it was very nice. I\\'ll say it was exciting and flattering that people are still so excited about the show after all this time.  100 Best Albums of the Nineties  RS: The show\\'s popularity is tied into people\\'s Nineties-related nostalgia. How aware were you of the show\\'s revered status among people of a certain age?  Savage: I mean, I knew it was a highly-regarded show, and I know it holds a special place in people\\'s hearts after all this time. Like I said, it\\'s very flattering. But, you know, the other thing is, it was a big part of my childhood as well. As important as it is to a lot of fans and a lot of people who watched our show, it\\'s just as important to me after all this time. It was an integral part of my life too, obviously.  RS: Apparently it was a big part of Snooki\\'s and Brooklyn Decker\\'s, as well.  Savage: It\\'s a little ridiculous. It\\'s very nice, though. All of it is very flattering. I know a lot of people grew up with that show. The funny thing is, back thenand it sounds like I\\'m talking about some prehistoric ageit was not long ago we didn\\'t have as much options of cable television and Internet. And we were all kind of in the same place at one point just watching TGIF on Friday nights. And so, to a lot of people, this show means a lot.  RS: Thanks to your role as Cory Matthews and your brother Fred\\'s as Kevin Arnold on \"The Wonder Years,\" many people feel they know the Savage family on an intimate level.  Savage: At the risk of using this word too often, it\\'s flattering. And it\\'s very nice that people think of us that way. It\\'s nice that we have a special bond with the public.  RS: Much of the show\\'s success and continued popularity over the years is due to its ability to speak to both kids and adults.  Savage: I guess it was kind of a hybrid of a kids\\' show and an adult show. We were just having fun on that show. Everyone was just kind of having a blast. The writers were a lot of fun. And the directors were always fun. And the acting was always fun. It was just a fun experience. So hopefully that came across to our viewers. At the same time, we tried to communicate some sort of message that was somewhat wholesome and had some sort of meaning. And I think people appreciate it. I think people can really appreciate a show with a good message, but one that does that with some humor.  Nineties fashion gets a second spin  RS: Had the idea for a Boy Meets World sequel come up over the years?  Savage: In an official capacity, no. This was really the first time where it had sort of been mentioned in an official way. I mean, people have been discussing it for a long timesome sort of movie-of-the-week or some sort of, I guess, some sort of film about the show. But I think that everyone associated with the show wanted to make sure that if we were to come back, that we weren\\'t going to do it in a way that was going to be a disservice to the show. No one wanted to really cash in, if you will, too early, or no one really wanted to do something that was going to be cheesy. So when we all decided to get together for this, there were a lot of discussions. I mean, this has been going on for months in an unofficial way. But the build-up to this Girl Meets World series, there was a lot of discussions and a lot of conversations to make sure we were all on the same page about what we were doing.  RS: Were you hesitant to sign on?  Savage: Let me say this: It wasn\\'t that I was resistant . . . I think it was just a matter of making sure all of us were on the same page about what we were going to do in terms of making the show last another seven years, hopefully. There were different options around of following our characters or following this. But it just seems a little poetic that we\\'re coming back 13 years later and it\\'s following our daughter\\'s character. I like that concept, because it\\'s very poetic and it\\'s kind of passing it off to the next generation.  RS: The sequel wouldn\\'t have worked without both you and Danielle Fishel returning.  Savage: It was interesting how it came together. But Danielle and I had definitely had a lot of discussions of what we wanted to do, and if we were both onboard. Again, just making sure that everything was right and we felt right about it. Listen, the people that are doing the showMichael Jacobs is the executive producerthey know what we\\'re about, and they know what we\\'re looking for. I guess it\\'s also a matter of trust that we\\'re all on the same page. \\'  \\'Boy Meets World\\': Where are they now?  RS: A lot of people are wondering if other original cast members, such as Rider Strong\\'s Shawn or Bill Daniels\\' Mr. Feeny, will be back in the mix.  Savage: We\\'re going to wait and see what happens. Obviously, I don\\'t want to give away too many details. But there\\'s definitely been discussions about some of everyone\\'s favorite characters popping up in the show and making appearances. We\\'ll see what happens.  RS: We\\'d like to see a return of Lee Norris\\' Stuart Minkus.  Savage: [laughs] That\\'s definitely an interesting way to go. I\\'m not sure when he stopped being on the show. I\\'m not sure, but I\\'m definitely in favor of a return of Minkus. Why not?  RS: When do you start shooting?  Savage: We start shooting, I think, February of next year.  RS: Some people are worried the show will be a bust.  Savage: We want to do justice to the characters, and we want to make sure we respect people\\'s memories of the show. It\\'s funny, a lot of the tweets and emails and mentions I\\'ve gotten are from a lot of people who are worried that the show wont\\' hold up. And that we shouldn\\'t do it because it\\'s going to ruin a lot of their childhood memories. And I totally can understand thatI get it. I know there are things that they\\'ve done in the past where I feel like it\\'s ruined my childhood memories. And I didn\\'t like that. But we\\'re really working hard and doing everything we can to make sure that this is going to be something special and funny, and hopefully it\\'ll make new memories for a new generation.  RS: How does it feel knowing you\\'re about to be a fatheronscreen, that is?  Savage: Well, I dunno [laughs]. In real life I\\'ve just been an uncle up to this point. Which has been greatit\\'s a nice role. We\\'ll see how fatherhood works for me.  Rolling Stone looks back on nineties with new anthology  RS: Maybe you can draw from your experiences as an uncle for the role.  Savage: Perhaps. I think it\\'s slightly different. Being an uncle is easy. You just get to stick around for the fun pasts.  RS: No babies waking you up in the middle of the night.  Savage: Exactly.  RS: Have you started the casting process for the role of yours and Danielle\\'s daughter?  Savage: We\\'re working on that right now. There have been a few names tossed around. We\\'re meeting with girls and auditioning and that whole process. You know, we\\'re slowly trying to find the perfect girl.  RS: Lastly, how often do random strangers call you Cory?  Savage: It\\'s a bit of a humblebrag if I make that complaint. I\\'ll just say, again, going back to our favorite word, it\\'s always very flattering when people recognize me.  See original story at RollingStone.com.  ', 'highlight': \"In real life he doesn't have any children of his own\"}\n",
      "\n",
      "\n",
      "\n",
      "{'story': 'TEHRAN, Iran  The Arab world is among the worldwide audience that has been closely watching as events in Iran have unfolded over the past week.  Protesters fight running battles with motorcycle-mounted militia members Saturday in Tehran.  \"In all honesty, I am amazed by these Iranians,\" Egyptian human rights activist and blogger Walid Abbas posted on his Twitter page. \"I have no green t-shirt\" Abbas tweeted Saturday. He was referring to the color worn by many supporters of opposition candidate Mir Hossein Moussavi, whose supposed failure to win last week\\'s election sparked the wave of unrest that has gripped the nation.  Watching the events unfolding in Iran on Twitter, Youtube and other social networks, the Egyptian activist said he is learning from the Iranian activists. He said he does not support Moussavi because he is part of the Mullah system.  \"We are not with Moussavi,\" Abbas tweeted, \"We are with the Iranian people and their demands.\"  Taghlob Salah, a 24-year-old Iraqi student at Baghdad Law College, told CNN that the Iranian youths who make up most of the protesters can be inspiring to Iraqis, despite cultural differences.  See images of the clashes Saturday   \"Despite the difference that we have with Iran and the fact that many Iraqis don\\'t trust their Persian neighbor, we are still Muslims and at the end of the day that matters a lot,\" he said. \"We will look at this phase in Iranian history and learn, for sure and I can say that we will learn from them, 100 percent.\"  Iraq and Iran are culturally linked because their populations are predominantly Shiite Muslims, as opposed to Sunni Muslims who make up the majority of most Arab countries.  Salah credited the Internet for giving everyone involved a chance to have their voices heard. \"There are so many Iraqi groups all over Facebook,\" he said. \"The world is evolving; we are developing our approach to our surroundings.\"  Abdel Bari Atwan, editor of the London-based pan-Arab newspaper Al-Quds Al-Arabi, expressed dismay over the continued protests. He called on Moussavi to be \"responsible enough to protect his people and avoid bloodshed, instability and confrontation in his country that may rupture the Iranian internal unity spreading chaos throughout the region.\"  Atwan said Ayatollah Ali Khamenei made it clear in his speech during Friday prayers that his patience had run out and he praised the supreme leader for having displayed \"leniency\" in his dealings with the protesters, but predicted that that leniency would not continue. iReport.com: Share images from Iran  Abd Rahman Rashed, editor of the Saudi-owned, London-based Arabic daily Al-Sharq Al-Awsat, expressed a different point of view. In an editorial published Saturday, Rashed directed comments to Arab supporters of Iranian President Mahmoud Ahmadinejad, whose landslide victory in last week\\'s election is being challenged by Moussavi and his supporters. \"No matter what happens, Iran did technically change and will shift its course in a great way,\" Rashed wrote. \"It is over,\" he said. \"Iran the one system, the street and the agenda is over.\"  They may not understand Farsi or why some Iranians voted for Moussavi, Mehdi Karrubi or Mahmoud Ahmadinejad, but Arabs can surely relate to the passionate shouts of \"God is Great!\" And \"Down with the dictator\" in defiance of Iran\\'s theocracy.  Relations between Iran and Arab states have always been tense: through its proxies, Iran sometimes accuses some of the leading Arab states, including Egypt and Saudi Arabia, of being subject to the whims of Western imperialism and of failing to confront America and its ally, Israel, in the region.  Rashed credited Iranians for speaking with courage against their government\\'s funding of controversial organizations like Hezbollah, Hamas and anti-government groups in Yemen and elsewhere.  He said Iranians voted against the current system because they don\\'t want the government to dedicate the country\\'s budget to ally itself to such organizations instead of focusing on the average citizen.  Some Arab states look to Iran as a regional superpower that can support them financially, militarily and politically in their confrontation with the international community. Those states include Syria and Sudan, which support organizations like Hamas and Hezbollahdeemed terrorist organizations by the United Statesthat are used as a proxy to challenge America and Israel in the region.  Some Arab states have long warned that Shiite Iran wants to spread its power across the Sunni-dominated Arab world, causing more mistrust and friction between the Persian nation and the Arab world.  Recently, Egypt and Morocco accused Iran of attempting to spread the Shiite faith among its Sunni population and creating Shiite converts and activists in their communities and in the rest of the Arab worlda charge that Iran has denied.  ', 'highlight': 'Some Arab states look to Iran as a regional superpower that can support them'}\n",
      "\n",
      "\n",
      "\n",
      "{'story': 'The future of Iceland\\'s elected government was in question Sunday after another weekend of street protests and the resignation of the government\\'s commerce ministerboth responses to the country\\'s financial mess.  Iceland\\'s Prime Minister Geir Haarde, left, talks with business minister Bjorgvin Sigurdsson in October.  The minister, Bjorgvin Sigurdsson, resigned Sunday, saying the government had failed to restore confidence in the three months after the collapse of several of the country\\'s leading banks, currency and stock market.  Senior government officials from the two parties that make up Iceland\\'s coalition governmentthe prime minister\\'s Independence Party and the Social Democrats partymet Sunday to discuss the government\\'s future but nothing was resolved, a spokesman for the prime minister said.  Another meeting was scheduled for Sunday night and it was \"highly likely\" that the parties would decide whether the current government would remain, the spokesman, Kristjan Kristjansson, said.  Sigurdsson\\'s resignation followed Saturday\\'s demonstration in which about 6,000 to 7,000 people in front of the parliament building called for the government of Prime Minister Geir Haarde to step down.  Protests have been staged regularly since the collapse, but Saturday\\'s was one of the biggest to date, a spokesman for the prime minister said.  Saturday\\'s demonstration was peaceful, the spokesman, Kristjansson, said. Watch iReport of Saturday demonstration  Riot police intervened during protests earlier in the week, using pepper spray and arresting some demonstrators.  In his resignation letter to the prime minister, Sigurdsson said he was taking his part of the responsibility for the economic situation in the country. But he also said that there were many more who shared responsibility, Urdur Gunnarsdottir, spokeswoman for the Ministry of Foreign Affairs, told CNN. No other officials were named.  The night before he resigned, Sigurdsson dismissed the head of the country\\'s financial supervisory authority and requested the authority\\'s board resign.  Haarde announced Friday he has a malignant tumor on his esophagus and would not run for re-election as chair of the Independence Party.  He also proposed that early elections be held on May 9, two years ahead of schedule. The country\\'s five-party parliament has not yet taken up the proposal, Kristjansson told CNN.  Iceland\\'s financial system and currency collapsed in October following a series of bank failures, forcing the International Monetary Fund to intervene.  Iceland sought IMF help after its government was forced to nationalize three banks to head off a complete collapse of its financial system. Trading on the country\\'s stock market was suspended for nearly a week, and inflation jumped to more than 12 percent.  The IMF announced in November it would pump about $827 million into the Icelandic economy immediately, with another $1.3 billion coming in eight installments. Iceland\\'s Nordic neighborsthe governments of Finland, Norway, Denmark and Swedenannounced they would lend Iceland another $2.5 billion.  In his resignation letter, Sigurdsson said after the country\\'s financial crash, he hoped the government would re-create trust and restore the country\\'s finances. But he said the effort failed, and he was resigning to help facilitate a restoration of public trust.  Sigurdsson is legally entitled to keep receiving his salary for several months after his resignation, but said in his letter he would not accept it.  CNN\\'s Per Nyberg in London contributed to this report.  ', 'highlight': 'Business minister Bjorgvin Sigurdsson says many share responsibility for problems'}\n",
      "\n",
      "\n",
      "\n"
     ]
    }
   ],
   "source": [
    "for num in range(0,5):\n",
    "    print(dataset['train'][num])\n",
    "    print('\\n\\n')"
   ]
  },
  {
   "cell_type": "markdown",
   "id": "5d70aeb0",
   "metadata": {},
   "source": [
    "These examples look good enough for us to use as training examples. Let's further prepare our dataset for use with the model\n",
    "\n",
    "\n",
    "First, we need to load our tokenizer. For this example, we will be training the FLAN-T5-small model for text summarization, so we need to instantiate the tokenizer using the AutoTokenizer.from_pretrained method"
   ]
  },
  {
   "cell_type": "code",
   "execution_count": 38,
   "id": "c2b4a722",
   "metadata": {},
   "outputs": [],
   "source": [
    "from transformers import AutoTokenizer\n",
    "tokenizer = AutoTokenizer.from_pretrained('google/flan-t5-small')"
   ]
  },
  {
   "cell_type": "markdown",
   "id": "122724be",
   "metadata": {},
   "source": [
    "We now need to write a pre-processing function which takes in our dataset and prepares it to go to the model. In order to train any FLAN-T5 model, we need to append \"summarize: \" to the beginning of all of our training examples. We are also going to truncate all of our examples that are beyond 512 tokens. We also need to pad all of our examples that are less than 512 so that our training examples are all the same length"
   ]
  },
  {
   "cell_type": "code",
   "execution_count": 48,
   "id": "5dacd55e",
   "metadata": {},
   "outputs": [],
   "source": [
    "MAX_INPUT_LENGTH = 512\n",
    "MAX_TARGET_LENGTH = 64\n",
    "prefix = 'summarize: '\n",
    "\n",
    "def pre_process(examples):\n",
    "    inputs = [prefix + text for text in examples['story']]\n",
    "    model_inputs = tokenizer(inputs, max_length = MAX_INPUT_LENGTH, truncation=True, padding=True)\n",
    "    \n",
    "    labels = tokenizer(examples['highlight'], max_length = MAX_INPUT_LENGTH, truncation=True, padding=True)\n",
    "    \n",
    "    model_inputs['labels'] = labels['input_ids']\n",
    "    return model_inputs"
   ]
  },
  {
   "cell_type": "markdown",
   "id": "37d79a42",
   "metadata": {},
   "source": [
    "To apply this function to all of our dataset, use the .map method of our Dataset object we created earlier"
   ]
  },
  {
   "cell_type": "code",
   "execution_count": 58,
   "id": "c5647d06",
   "metadata": {},
   "outputs": [
    {
     "data": {
      "application/vnd.jupyter.widget-view+json": {
       "model_id": "",
       "version_major": 2,
       "version_minor": 0
      },
      "text/plain": [
       "Map:   0%|          | 0/263249 [00:00<?, ? examples/s]"
      ]
     },
     "metadata": {},
     "output_type": "display_data"
    },
    {
     "data": {
      "application/vnd.jupyter.widget-view+json": {
       "model_id": "",
       "version_major": 2,
       "version_minor": 0
      },
      "text/plain": [
       "Map:   0%|          | 0/65813 [00:00<?, ? examples/s]"
      ]
     },
     "metadata": {},
     "output_type": "display_data"
    }
   ],
   "source": [
    "tokenized_dataset = dataset.map(pre_process, batched=True)"
   ]
  },
  {
   "cell_type": "markdown",
   "id": "2e716fa0",
   "metadata": {},
   "source": [
    "Now that our dataset is tokenized, let's do one final bit of postprocessing to prepare it for training.\n",
    "\n",
    "Because the model does not accept raw input as text, we need to remove our \"story\" and \"highlight\" fields from the dataset"
   ]
  },
  {
   "cell_type": "code",
   "execution_count": 59,
   "id": "c1b5fabf",
   "metadata": {},
   "outputs": [],
   "source": [
    "tokenized_dataset = tokenized_dataset.remove_columns(['story', 'highlight'])"
   ]
  },
  {
   "cell_type": "markdown",
   "id": "8c369ddd",
   "metadata": {},
   "source": [
    "We also need to set the dataset to return pytorch tensors instead of lists"
   ]
  },
  {
   "cell_type": "code",
   "execution_count": 60,
   "id": "ddc75f95",
   "metadata": {},
   "outputs": [
    {
     "data": {
      "text/plain": [
       "DatasetDict({\n",
       "    train: Dataset({\n",
       "        features: ['input_ids', 'attention_mask', 'labels'],\n",
       "        num_rows: 263249\n",
       "    })\n",
       "    test: Dataset({\n",
       "        features: ['input_ids', 'attention_mask', 'labels'],\n",
       "        num_rows: 65813\n",
       "    })\n",
       "})"
      ]
     },
     "execution_count": 60,
     "metadata": {},
     "output_type": "execute_result"
    }
   ],
   "source": [
    "tokenized_dataset"
   ]
  },
  {
   "cell_type": "code",
   "execution_count": 61,
   "id": "1fe86f47",
   "metadata": {},
   "outputs": [],
   "source": [
    "tokenized_dataset.set_format('torch')"
   ]
  },
  {
   "cell_type": "code",
   "execution_count": 62,
   "id": "96d2273f",
   "metadata": {},
   "outputs": [
    {
     "data": {
      "text/plain": [
       "DatasetDict({\n",
       "    train: Dataset({\n",
       "        features: ['input_ids', 'attention_mask', 'labels'],\n",
       "        num_rows: 263249\n",
       "    })\n",
       "    test: Dataset({\n",
       "        features: ['input_ids', 'attention_mask', 'labels'],\n",
       "        num_rows: 65813\n",
       "    })\n",
       "})"
      ]
     },
     "execution_count": 62,
     "metadata": {},
     "output_type": "execute_result"
    }
   ],
   "source": [
    "tokenized_dataset"
   ]
  },
  {
   "cell_type": "markdown",
   "id": "17e5c5d7",
   "metadata": {},
   "source": [
    "Finally, let's split our dataset into separate train and test datasets to send to the model"
   ]
  },
  {
   "cell_type": "code",
   "execution_count": 63,
   "id": "55510932",
   "metadata": {},
   "outputs": [],
   "source": [
    "train_dataset = tokenized_dataset['train']\n",
    "test_dataset = tokenized_dataset['test']"
   ]
  },
  {
   "cell_type": "markdown",
   "id": "46ee8fce",
   "metadata": {},
   "source": [
    "Create Pickle files and save them in your current directory. Our final notebook will use these datasets to train\n",
    "our T5 model for summarization"
   ]
  },
  {
   "cell_type": "code",
   "execution_count": 66,
   "id": "5c7b07ec",
   "metadata": {},
   "outputs": [],
   "source": [
    "train_file = open('train_dataset.pkl', 'wb')\n",
    "test_file = open('test_dataset.pkl', 'wb')\n",
    "\n",
    "pickle.dump(train_dataset, train_file)\n",
    "pickle.dump(test_dataset, test_file)"
   ]
  }
 ],
 "metadata": {
  "kernelspec": {
   "display_name": "Python 3 (ipykernel)",
   "language": "python",
   "name": "python3"
  },
  "language_info": {
   "codemirror_mode": {
    "name": "ipython",
    "version": 3
   },
   "file_extension": ".py",
   "mimetype": "text/x-python",
   "name": "python",
   "nbconvert_exporter": "python",
   "pygments_lexer": "ipython3",
   "version": "3.10.9"
  }
 },
 "nbformat": 4,
 "nbformat_minor": 5
}
