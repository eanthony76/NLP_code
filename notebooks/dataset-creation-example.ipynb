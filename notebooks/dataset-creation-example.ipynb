{
 "cells": [
  {
   "cell_type": "markdown",
   "id": "9444c94c",
   "metadata": {},
   "source": [
    "This notebook part two of three notebooks containing an example for training a BERT model using AWS Sagemaker"
   ]
  },
  {
   "cell_type": "markdown",
   "id": "3c8c22d6",
   "metadata": {},
   "source": [
    "## Package Imports"
   ]
  },
  {
   "cell_type": "code",
   "execution_count": 1,
   "id": "922a53fd",
   "metadata": {},
   "outputs": [],
   "source": [
    "from datasets import Dataset\n",
    "import pickle\n",
    "import pandas as pd\n",
    "import numpy as np"
   ]
  },
  {
   "cell_type": "code",
   "execution_count": 2,
   "id": "b8a5997d",
   "metadata": {},
   "outputs": [
    {
     "data": {
      "text/plain": [
       "'/home/eanthony/workspace/github-work/aidiv-sagemaker-examples/notebooks'"
      ]
     },
     "execution_count": 2,
     "metadata": {},
     "output_type": "execute_result"
    }
   ],
   "source": [
    "pwd"
   ]
  },
  {
   "cell_type": "code",
   "execution_count": 3,
   "id": "b6666dbc",
   "metadata": {},
   "outputs": [
    {
     "name": "stdout",
     "output_type": "stream",
     "text": [
      "/home/eanthony/workspace/github-work/aidiv-sagemaker-examples\n"
     ]
    }
   ],
   "source": [
    "cd .."
   ]
  },
  {
   "cell_type": "markdown",
   "id": "9247799d",
   "metadata": {},
   "source": [
    "## Load Pickle File"
   ]
  },
  {
   "cell_type": "code",
   "execution_count": 4,
   "id": "3dc11580",
   "metadata": {},
   "outputs": [],
   "source": [
    "file = open('cnn_stories_clean.pkl', 'rb')\n",
    "df = pickle.load(file)"
   ]
  },
  {
   "cell_type": "markdown",
   "id": "3b1a71f3",
   "metadata": {},
   "source": [
    "Let's take a look at our DataFrame to see what else needs to be done before it is ready for use"
   ]
  },
  {
   "cell_type": "code",
   "execution_count": 5,
   "id": "25c6b14a",
   "metadata": {},
   "outputs": [
    {
     "data": {
      "text/plain": [
       "[\"Fernando Lugo says he's the father of a 2-year-old conceived when he was a bishop\",\n",
       " \"Announcement comes in the week after child's mother sued, seeking paternity test\",\n",
       " 'Some Cabinet members say paternity disclosure reflects government transparency',\n",
       " 'But opposition party member calls on Vatican to excommunicate Lugo']"
      ]
     },
     "execution_count": 5,
     "metadata": {},
     "output_type": "execute_result"
    }
   ],
   "source": [
    "df.highlight[0]"
   ]
  },
  {
   "cell_type": "code",
   "execution_count": 6,
   "id": "848d6552",
   "metadata": {},
   "outputs": [
    {
     "data": {
      "text/html": [
       "<div>\n",
       "<style scoped>\n",
       "    .dataframe tbody tr th:only-of-type {\n",
       "        vertical-align: middle;\n",
       "    }\n",
       "\n",
       "    .dataframe tbody tr th {\n",
       "        vertical-align: top;\n",
       "    }\n",
       "\n",
       "    .dataframe thead th {\n",
       "        text-align: right;\n",
       "    }\n",
       "</style>\n",
       "<table border=\"1\" class=\"dataframe\">\n",
       "  <thead>\n",
       "    <tr style=\"text-align: right;\">\n",
       "      <th></th>\n",
       "      <th>story</th>\n",
       "      <th>highlight</th>\n",
       "    </tr>\n",
       "  </thead>\n",
       "  <tbody>\n",
       "    <tr>\n",
       "      <th>0</th>\n",
       "      <td>ASUNCION, Paraguay  Paraguayan President Ferna...</td>\n",
       "      <td>[Fernando Lugo says he's the father of a 2-yea...</td>\n",
       "    </tr>\n",
       "    <tr>\n",
       "      <th>1</th>\n",
       "      <td>KUNA YALA, Panama  Hunched over a campfire in ...</td>\n",
       "      <td>[New trends could open door to reversal in def...</td>\n",
       "    </tr>\n",
       "    <tr>\n",
       "      <th>2</th>\n",
       "      <td>Seoul, South Korea The new commander of U.S. f...</td>\n",
       "      <td>[Gen. James D. Thurman is the new commander of...</td>\n",
       "    </tr>\n",
       "    <tr>\n",
       "      <th>3</th>\n",
       "      <td>Most Americans don't want the United States to...</td>\n",
       "      <td>[David Rothkopf: Polls say Americans averse to...</td>\n",
       "    </tr>\n",
       "    <tr>\n",
       "      <th>4</th>\n",
       "      <td>U.S. Secretary of State John Kerry said Monday...</td>\n",
       "      <td>[John Kerry says unilateral action by North Ko...</td>\n",
       "    </tr>\n",
       "    <tr>\n",
       "      <th>...</th>\n",
       "      <td>...</td>\n",
       "      <td>...</td>\n",
       "    </tr>\n",
       "    <tr>\n",
       "      <th>92460</th>\n",
       "      <td>Despite the retail madness of Black Friday, sm...</td>\n",
       "      <td>[Program intended to boost local businesses, S...</td>\n",
       "    </tr>\n",
       "    <tr>\n",
       "      <th>92461</th>\n",
       "      <td>The U.S. is not returning combat troops to Ira...</td>\n",
       "      <td>[House approves Obama's request to train and a...</td>\n",
       "    </tr>\n",
       "    <tr>\n",
       "      <th>92462</th>\n",
       "      <td>Facebook wants to cut clutter.  The social med...</td>\n",
       "      <td>[Facebook has redesigned the news feed to fill...</td>\n",
       "    </tr>\n",
       "    <tr>\n",
       "      <th>92463</th>\n",
       "      <td>Former Olympic champion Angel Matos of Cuba f...</td>\n",
       "      <td>[Cuba's Angel Matos kicks referee in the face ...</td>\n",
       "    </tr>\n",
       "    <tr>\n",
       "      <th>92464</th>\n",
       "      <td>What's better than easing into a B&amp;B where you...</td>\n",
       "      <td>[Some bed and breakfasts make a special effort...</td>\n",
       "    </tr>\n",
       "  </tbody>\n",
       "</table>\n",
       "<p>92465 rows × 2 columns</p>\n",
       "</div>"
      ],
      "text/plain": [
       "                                                   story  \\\n",
       "0      ASUNCION, Paraguay  Paraguayan President Ferna...   \n",
       "1      KUNA YALA, Panama  Hunched over a campfire in ...   \n",
       "2      Seoul, South Korea The new commander of U.S. f...   \n",
       "3      Most Americans don't want the United States to...   \n",
       "4      U.S. Secretary of State John Kerry said Monday...   \n",
       "...                                                  ...   \n",
       "92460  Despite the retail madness of Black Friday, sm...   \n",
       "92461  The U.S. is not returning combat troops to Ira...   \n",
       "92462  Facebook wants to cut clutter.  The social med...   \n",
       "92463   Former Olympic champion Angel Matos of Cuba f...   \n",
       "92464  What's better than easing into a B&B where you...   \n",
       "\n",
       "                                               highlight  \n",
       "0      [Fernando Lugo says he's the father of a 2-yea...  \n",
       "1      [New trends could open door to reversal in def...  \n",
       "2      [Gen. James D. Thurman is the new commander of...  \n",
       "3      [David Rothkopf: Polls say Americans averse to...  \n",
       "4      [John Kerry says unilateral action by North Ko...  \n",
       "...                                                  ...  \n",
       "92460  [Program intended to boost local businesses, S...  \n",
       "92461  [House approves Obama's request to train and a...  \n",
       "92462  [Facebook has redesigned the news feed to fill...  \n",
       "92463  [Cuba's Angel Matos kicks referee in the face ...  \n",
       "92464  [Some bed and breakfasts make a special effort...  \n",
       "\n",
       "[92465 rows x 2 columns]"
      ]
     },
     "execution_count": 6,
     "metadata": {},
     "output_type": "execute_result"
    }
   ],
   "source": [
    "df"
   ]
  },
  {
   "cell_type": "markdown",
   "id": "b71b1930",
   "metadata": {},
   "source": [
    "Each article has multiple highlights attached to it. Let's expand our DataFrame to have each row contain one article and one summary"
   ]
  },
  {
   "cell_type": "code",
   "execution_count": 7,
   "id": "55583c2b",
   "metadata": {},
   "outputs": [],
   "source": [
    "new_df = pd.DataFrame({\n",
    "    'story': df['story'].repeat(df['highlight'].str.len()),\n",
    "    'highlight': [h for lst in df['highlight'] for h in lst]\n",
    "})\n",
    "df = new_df.reset_index().drop(columns='index')"
   ]
  },
  {
   "cell_type": "markdown",
   "id": "1a09c40f",
   "metadata": {},
   "source": [
    "We can use the .from_pandas function from Dataset to load in our dataframe and have the HuggingFace library turn it into our dataset"
   ]
  },
  {
   "cell_type": "code",
   "execution_count": 9,
   "id": "2f70c5c4",
   "metadata": {},
   "outputs": [],
   "source": [
    "dataset = Dataset.from_pandas(df)"
   ]
  },
  {
   "cell_type": "markdown",
   "id": "19ce992f",
   "metadata": {},
   "source": [
    "Finally, let's divide our dataset into train and test"
   ]
  },
  {
   "cell_type": "code",
   "execution_count": 11,
   "id": "88be3ba3",
   "metadata": {},
   "outputs": [],
   "source": [
    "dataset = dataset.train_test_split(test_size=0.2)"
   ]
  },
  {
   "cell_type": "markdown",
   "id": "637fedf7",
   "metadata": {},
   "source": [
    "Let's take a look at some of our examples to make sure that it created training examples that will be useful for us. We are going to train our T-5 model using summary-source pairs"
   ]
  },
  {
   "cell_type": "code",
   "execution_count": 12,
   "id": "ad2d388a",
   "metadata": {},
   "outputs": [
    {
     "name": "stdout",
     "output_type": "stream",
     "text": [
      "{'story': 'CHENGDU, China Rainy weather and poor logistics thwarted efforts by relief troops who walked for hours over rock, debris and mud on Tuesday in hopes of reaching the worst-hit area of an earthquake that killed nearly 10,000 in central China, state-run media reported.  Setting out from Maerkang in Sichuan Province at 8 p.m. Monday, the 100 or so troops had to travel 200 kilometers (124 miles) to go before reaching Wenchuan, the epicenter of the quake, also in the province, Xinhua reported. After seven hours, they still had 70 kilometers (43 miles) to go.  \"I have seen many collapsed civilian houses, and the rocks dropped from mountains on the roadside are everywhere,\" the head of the unit, Li Zaiyuan, told Xinhua.  Added CNN Correspondent John Vause: \"The roads here are terrible in the best of times ... right now they\\'re down right atrocious. They\\'ve resorted to going in one man at a time on foot.\"  Nearly all the confirmed deaths were in Sichuan Province, but rescuers were hindered because roads linking it to the provincial capital, Chengdu, were damaged, Xinhua reported.  Local radio quoted disaster relief officials as saying a third of the buildings in Wenchuan collapsed from the quake and another third were seriously damaged.  The earthquake was powerful enough to be felt throughout most of China. Many children were buried under the rubble of their schools.  The Chinese government said the death toll was sure to rise.  An expert told CNN the 7.9-magnitude quake at about 2:28 p.m. Monday (6:28 a.m. GMT) was the largest the region has seen \"for over a generation.\"  Residents as far as Chongqingabout 200 miles from the epicenter in Sichuan Provincespent the night outdoors, too afraid of aftershocks to sleep indoors.  Local radio in Sichuan quoted disaster relief officials as saying a third of the buildings in Wenchuan collapsed from the quake and another third were seriously damaged.  Watch as the death toll rises   The state-run Zhongxin news agency reported that a survivor who escaped Beichuan county in Sichuan Province described the province as having been \"razed to the ground.\"  The Red Cross Society of China, coordinating some of the international aid efforts, encouraged financial donations because of the difficulty of getting supplies to those most in need.  At least six schools collapsed to some extent in the quake or aftershocks that followed, Xinhua reported.  See a report on rescue operations at the school   At one school, almost 900 studentsall eighth-graders and ninth-graders, according to a local villagerwere believed to be buried.  See workers in Chengdu hiding under their desks during the quake   At least 50 bodies were pulled from the rubble by Monday night at Juyuan Middle School in Juyuan Township of Dujiangyan City, Sichuan Province, Xinhua reported.  \"Some buried teenagers were struggling to free themselves from the ruins while others were calling for help. Eight excavators were working at the site. Devastated parents watched as five cranes worked at the site and an ambulance waited,\" Xinhua reported.  \"A tearful mother said her son, ninth-grader Zhang Chengwei, was buried in the ruins.\"  Meanwhile, 2,300 people were buried in two collapsed chemical plants in Sichuan\\'s Shifang city, and 80 tons of ammonia leaked out, Xinhua reported. Six hundred people died there. The plants were among a series of buildings that collapsed, including private homes, schools and factories.  The local government has evacuated 6,000 civilians from the area and was dispatching firefighters to help at the scene, Xinhua reported.  Much of the nation\\'s transportation system shut down. Xinhua reported there were \"multiple landslides and collapses along railway lines\" near Chengdu.  Quake victims have been sleeping outside in Chengdu   Sichuan Province sits in the Sichuan basin and is surrounded by the Himalayas to the west. The Yangtze River flows through the province and the Three Gorges Dam in the nearby Hubei Province controls flooding to the Sichuanthough there were no reports of damage to the world\\'s largest dam.  Monday\\'s quake was caused by the Tibetan plateau colliding with the Sichuan basin, Zhigang Peng, an earthquake expert at Georgia Institute of Technology in Atlanta, Georgia, told CNN.  \"Earthquakes in this part of China are infrequent but not uncommon,\" he said.  The last major earthquake in the region occurred in the northwestern margin of the Sichuan basin when a 7.5-magnitude quake killed more than 9,300 people on August 25, 1933.  President Hu Jintao ordered an all-out effort to help those affected, and Premier Wen Jiabao traveled to the region to direct the rescue work, Xinhua reported.  \"My fellow Chinese, facing such a severe disaster, we need calm, confidence, courage and efficient organization,\" Wen was quoted as saying.  \"I believe we can certainly overcome the disaster with the public and the military working together under the leadership of the CPC Central Committee and the government.\"  Peter Sammonds, professor of geophysics at University College London, called the earthquake \"tremendous.\"  \"Particularly in the more remote, the more mountainous part where this has taken place, a lot of the buildings are built on sediments that are quite unstable. They\\'re probably liquifying, causing the buildings to collapse. You might expect landslides to occur, which could actually stop the relief efforts going through on the roads, so this could be very grim in the remoter, more mountainous parts of this province.\"  While many of the most immediate efforts were focused on Sichuan Province, Xinhua also reported dead and injured in Gansu, Chongqing and Yunnan provinces.  A provincial government spokesman said they feared more dead and injured in collapsed houses in Dujiangyan City in Wenchuan County.  A driver for the seismological bureau said he saw \"rows of houses collapsed\" in Dujiangyan, Xinhua reported.  Bonnie Thie, the country director of the Peace Corps, told CNN she was on a university campus in Chengdu about 60 miles from the epicenter, in the eastern part of China\\'s Sichuan province, when the first quake hit.  \"You could see the ground shaking,\" Thie told CNN.  The shaking \"went on for what seemed like a very long time,\" she said.  Bruce Presgrave, a geophysicist with the U.S. Geological Survey, said this quake could cause major damage because of its strength and proximity to major population centers. Also, it was relatively shallow,  and those kinds of quakes tend to do more damage near the epicenter than deeper ones, Presgrave said.  An earthquake with 7.5 magnitude in the northern Chinese city of Tangshan killed 255,000 people in 1976the greatest death toll from an earthquake in the last four centuries and the second greatest in recorded history, according to the U.S. Geological Survey. Tangshan is roughly 995 miles (1,600 km) from Chengdu, the nearest major city to the epicenter of Monday\\'s quake.  Read an explanation about earthquakes   After the quake struck Monday, the ground shook as far away as Beijing, which is 950 miles (1,528 km) from the epicenter. Residents of the Chinese capital, which hosts this year\\'s Olympic Games in August, felt a quiet, rolling sensation for about a minute.  See CNN\\'s interview with an American in Chengdu   Thousands of people were evacuated from Beijing buildings immediately after the earthquake.  At least seven more earthquakesmeasuring between 4.0 and 6.0 magnitudeshappened nearby over the four hours after the initial quake at at 2:28 p.m. local time, the USGS reported.  A spokesman for the Beijing Olympic Committee said no Olympic venues were affected. The huge Three Gorges Damroughly 400 miles east of the epicenterwas not damaged, a spokesman said.  The earthquake was also felt in Hong Kong, Shanghai, Taiwan, and as far away as Hanoi, Vietnam, and Bangkok, Thailand, according to the Hong Kong-based Mandarin-language channel Phoenix TV.  Impact your world  CNN\\'s John Vause and Jaime FlorCruz contributed to this report.  ', 'highlight': 'NEW: China says at least 10,000 dead but it expects figure to rise'}\n",
      "\n",
      "\n",
      "\n",
      "{'story': 'Roger Federer aims to bounce back from his crushing final defeat in Shanghai as he enters his final four tournaments of 2010 with a long-awaited return to Sweden this week.  The 16-time Grand Slam winner moved back to second in the world rankings above Novak Djokovic despite being thrashed in straight sets by Andy Murray on Sunday.  He will open his campaign at the Stockholm Open on Thursday against American Taylor Dent in his first appearance at the ATP Tour event since 2010, having pulled out two years ago with a back injury.  The indoor hardcourt tournament is run by the Swiss star\\'s former on-court rivals Thomas Johansson and Jonas Bjorkman.  \"Physically I\\'m feeling good, and mentally I have a lot left in me. I don\\'t feel like it\\'s the end of the year. I intend to make it fun for myself,\" Federer told the ATP Tour website.  \"It\\'s a combination of factors behind a decision like this. I love playing tennis and love playing tournaments, and haven\\'t played here in 10 years.  \"I was supposed to have played here two years ago, but had a bad back. I thought it would be fun to come back to Stockholm, and the fact that Thomas and Jonas are in charge makes it extra special.\"  Federer has won just two titles this year, the Australian Open and the Cincinnati Masters, but told reporters on Tuesday that he is determined to win back his No. 1 ranking from Rafael Nadalwho has moved well clear at the top after his Wimbledon and U.S. Open victories.  Federer will try to reduce the deficit in Stockholm, his home event in Basle, Paris and then London at the ATP Tour World Finals.  \"For me there is number one and everything else. It\\'s not too important for me to be two, three or four,\" he said in quotes carried by AFP.  \"I\\'m always trying to get back to number one, it\\'s what I\\'m concentrating on week by week.\"  Dent moved into the second round on Tuesday when Poland\\'s Michael Przysiezny retired with an injury, having lost the first set 6-2.  Spanish sixth seed Feliciano Lopez was upset 6-2 6-2 by Germany\\'s Florent Mayer, while his eighth-seeded compatriot Tommy Robredo crashed out with a 6-3 6-2 defeat by Croatian qualifier Ivan Dodig.  Unseeded German Benjamin Becker beat young Dutchman Thomas Schoorel 6-3 6-0 to set up a second-round clash with second-seeded home hope Robin Soderling, runner-up in 2003 and 2008.  At the Kremlin Cup in Russia, Radek Stepanek was the only seeded men\\'s player in action on Tuesday and the Czech No. 5 overcame Romania\\'s Victor Hanescu 7-6 (7-5) 6-3.  In the women\\'s event, Chinese third seed Li Na was knocked out by 2006 champion Anna Chakvetadze in her opening match, having been given a wildcard entry.  The 23-year-old Russian, who has fallen to 68th in the rankings after a career-high fifth in 2007, set up a clash with the Ukraine\\'s Mariya Koryttseva following her 6-4 6-2 victory.  Italian fifth seed Flavia Pennetta also crashed out, losing 6-4 2-6 6-2 to Russian Elena Vesnina.  Vesnina\\'s compatriots Maria Kirilenko and Alisa Kleybanova, ranked sixth and seventh respectively, also progressed into round two.  ', 'highlight': \"Chinese third seed Lin Na loses first-round match at women's Kremlin Cup event\"}\n",
      "\n",
      "\n",
      "\n",
      "{'story': 'SRINAGAR, Indian-administered Kashmir The chief minister of Indian-administered Kashmir tendered his resignation Tuesday after he was accused of being involved in a 2006 sex scandal, his adviser said.  Omar Abdullah denies any link to a prostitution ring, saying he has stepped down to clear his name.  Omar Abdullah, 38, delivered his resignation to the state governor after opposition member Muzaffar Hussain Beigh accused Omar of a connection to the prostitution scandal during a session of the state legislative assembly. Muzaffar served as the deputy chief minister in the previous government, when several top pro-India officials were arrested on charges they misused their authority to force girls and women into a prostitution ring in Kashmir.  Omar denied being involved in the scandal, but said he could not \"continue in the office following the allegation\" and would not serve again until he is cleared of the charges.  \"This is not an ordinary allegation, but a highly serious one. I cannot continue in office until I am cleared,\" Omar said in the state assembly.  He then drove to Raj Bhawan, the official residence of New Delhi-appointed governor N. N. Vohra, to deliver his resignation, according to Devender Rana, Omar\\'s political adviser.  The governor is consulting constitutional and legal experts before deciding on the resignation.  The chief minister refused to talk to journalists outside the governor\\'s residence.  The Times of India newspaper Tuesday quoted highly placed sources in India\\'s Central Bureau of Investigation as saying that Omar\\'s name never came up in the prostitution probe.  Omar came into office in January following elections in late 2008 that saw the highest voter turnout in the region in nearly 20 years, since the eruption of a secessionist insurgency. Voters went to the polls in large numbers, despite a separatist call for a boycott of the voting.  Most recently, the chief minister has been working to defuse tensions that are still running high following the arrest of four police officers in the probe of the alleged rape and murder of two young Muslim women in May.  Two people have died and many have been injured in more than 300 violent clashes between Muslim protesters and Indian security forces stemming from the case.  The arrests included the former police chief of south Kashmir\\'s Shopian district and three of his subordinates, who are accused of \"destruction of evidence\" and \"dereliction of duty\" in connection with the deaths, which occurred in the town of Shopian.  Kashmir has been in the throes of a bloody secessionist campaign for nearly two decades in which, according to official figures, 43,000 people have been killed.  Various rights groups and non-governmental organizations here, however, dispute the official statisticsclaiming that the number killed during the last two decades is twice the official figure.  ', 'highlight': 'He denies allegation he was involved in a prostitution ring'}\n",
      "\n",
      "\n",
      "\n",
      "{'story': 'Saudi Arabia is re-establishing its diplomatic presence in Egypt after tensions briefly spurred the kingdom to pull its envoys and shutter its missions, Egyptian and Saudi state news agencies said Friday.  Ambassador Ahmad Kattan is returning to his post in Cairo, and Saudi Arabia\\'s embassy and consulate will reopen by Sunday, the agencies said.  Saudi Arabia called back Kattan and closed its embassy and consulates last Sunday after raucous protests in Cairo over the imprisonment of Ahmed Mohammed el-Gezawi, an Egyptian human rights lawyer.  Throngs of Egyptians had gathered in front of the Saudi Embassy last week, calling for the release of el-Gezawi.  The decision to pull out Saudi diplomats came after protesters\\' \"attempts to storm and threaten the security and safety of its (embassy) employees,\" the Saudi Press Agency said.  Saudi officials say el-Gezawi is accused of trying to smuggle thousands of pills into the country.  The Egyptian Organization for Human Rights say el-Gezawi had been traveling during Umrah, a minor pilgrimage to Mecca, when he was detained.  \"What has happened in the recent days of repercussions in the relationship between the two countries is painful to every honorable Saudi and Egyptian citizen, and our decision to recall the ambassador and the closure of the embassy were only to protect its employees from other situations that could have developed with dire consequences,\" the Saudi Press Agency said, quoting King Abdullah bin Abdul Aziz.  \"We will not allow this incidental crisis to prolong.\"  The protests and the Saudi reaction appear to have again ratcheted up long-standing tensions between the two Middle Eastern nations.  The strains can be traced back to 1979, when the kingdom broke off diplomatic relations after Egypt inked a peace deal with Israel based on the Camp David Accords. The ties were restored in November 1987.  Egypt, the most populous Arab country, has often engaged in \"a subtle competition\" with its Saudi counterparts \"over this question of regional leadership,\" Cook said.  Egypt erupted in protest last year during 18 days of demonstrations in Cairo\\'s Tahrir Square after similar uprisings in neighboring Tunisia, ultimately ousting Egypt\\'s longtime president Hosni Mubarak after nearly three decades in power.  CNN\\'s Saad Abedine contributed to this report  ', 'highlight': '\"We will not allow this incident crisis to prolong,\" King Abdullah says'}\n",
      "\n",
      "\n",
      "\n",
      "{'story': 'Washington Top Democratic strategists in Washington are already beginning one of the city\\'s oldest traditionssecond-guessing a losing election strategy before what is expected to be a stinging defeat in Tuesday\\'s midterm elections.  One of the key debates to emerge is whether Democratic candidates were too cautious in avoiding President Barack Obama at all costs.  \"Running away from the president is never smart,\" said one top Democratic strategist who has worked with both the White House and Senate candidates this midterm cycle. \"You look like chicken s---,\" the strategist added on condition of anonymity.  A White House official who also asked not to be named so he could speak freely argued Democrats still have a chance to hold the Senate. \"We don\\'t think anything is done until election day,\" the official said in an email that included election day polls in 2012 that showed the president tied with Mitt Romney. Obama went on to win a decisive victory.  Still, the conventional wisdom to banish the president from key Senate battlegrounds, in favor of either Bill and Hillary Clinton, Vice President Joe Biden, and even First Lady Michelle Obama made sense to most Senate Democratic campaigns. The president\\'s low approval numbers plus the conservative terrain at risk for Democrats in Arkansas, Alaska and Louisiana was a \"toxic combination,\" as another top strategist put it.  The problem with that approach, according to Democratic midterm second-guessers, is that it left the party with little to offer voters.  \"I am becoming convinced that many Democrats made a mistake in trying to run away from President Obama and the Democratic party agenda,\" said Jim Manley, a former spokesman for Senate Majority Leader Harry Reid. \"How is the base supposed to get excited when elected Democrats are going to such great length to put as much distance as the can between them and a president that was elected twice by the American people,\" Manley asked.  One of the lasting memories of the 2014 midterm elections will likely be Kentucky Democratic Senate candidate Alison Lundergan Grimes\\' refusal to say whether she even voted for Obama.  \"She was an Obama delegate,\" complained one strategist about Grimes. \"Of course she voted for him.\"  The president did not want to tell candidates how to run their campaigns, his aides said. Instead, Obama appeared almost exclusively with Democratic gubernatorial candidates. But his message was clearly aimed at firing up his party\\'s base.  Obama has consistently prodded Democrats to get off the couch, take their cousin \"Pookie\" with them, and vote. Democrats, the president has argued time and again, have a \"congenital defect\" when it comes to casting ballots in midterms.  \"The number of eligible voters who vote typically in a midterm is like in the 30s. I mean, Ukraine just went through an electionthey got a war going on, they had about 60 percent turnout,\" Obama said Sunday of the percentage of Americans who go to the polls in midterm elections. \"There is no excuse for us to just give away our power. If you wonder why things don\\'t happen, if you wonder why sometimes elected officials don\\'t seem responsive, it\\'s because so many of us stay at home,\" he added at an event with Pennsylvania gubernatorial candidate Tom Wolf.  Despite that feisty tone, Obama remained behind closed doors Monday, one day before the midterms. Also missing are any mentions of the president\\'s record. Obama no longer uses the line about his polices being \"on the ballot\" on Tuesday, after some of his supporters complained publicly.  But other strategists worry the aversion to all things Obama went too far, noting few Democratic candidates have spent much time pointing to the lowering unemployment rate, among a range of hopeful economic indicators.  \"Many Democratic candidates blurred the choice so much that voters figured \\'well if I\\'m going to have a choice between two Republicans I might as will choose the one that calls themselves one,\\'\" griped a party operative.  Candidates also matter, several seasoned Democratic operatives argued. Iowa Democratic Senate candidate Bruce Braley\\'s gaffe in describing the state\\'s popular Republican Sen. Charles Grassley as an \"Iowa farmer who never went to law school,\" was a key mistake according to one strategist.  A Braley loss to his Republican challenger, Joni Ernst, would give the GOP two Senate seats in a state Obama won twice, after he defeated Hillary Clinton in the 2008 Iowa caucuses. In a sign of just how much his Iowa star power has faded in six years, the president was never called in to campaign on behalf of Braley.  In addition, the president was kept out of Colorado and New Hampshire, two states he also captured in 2008 and 2012.  Ben LaBolt, a former Obama White House and campaign spokesman, maintained Democrats are striking the right balance.  \"It makes little sense to publicly deploy him in states he didn\\'t win,\" LaBolt said. \"However, he can and is doing surgical things to help Democratic candidates like fundraising and rallying the young and diverse constituencies that carried him to victory and could make the difference in close races.\"  ', 'highlight': 'Republicans look poised to pick up the six seats they need to reclaim the Senate'}\n",
      "\n",
      "\n",
      "\n"
     ]
    }
   ],
   "source": [
    "for num in range(0,5):\n",
    "    print(dataset['train'][num])\n",
    "    print('\\n\\n')"
   ]
  },
  {
   "cell_type": "markdown",
   "id": "5d70aeb0",
   "metadata": {},
   "source": [
    "These examples look good enough for us to use as training examples. Let's further prepare our dataset for use with the model\n",
    "\n",
    "\n",
    "First, we need to load our tokenizer. For this example, we will be training the FLAN-T5-small model for text summarization, so we need to instantiate the tokenizer using the AutoTokenizer.from_pretrained method"
   ]
  },
  {
   "cell_type": "code",
   "execution_count": 13,
   "id": "c2b4a722",
   "metadata": {},
   "outputs": [],
   "source": [
    "from transformers import AutoTokenizer\n",
    "tokenizer = AutoTokenizer.from_pretrained('google/flan-t5-small')"
   ]
  },
  {
   "cell_type": "markdown",
   "id": "122724be",
   "metadata": {},
   "source": [
    "We now need to write a pre-processing function which takes in our dataset and prepares it to go to the model. In order to train any FLAN-T5 model, we need to append \"summarize: \" to the beginning of all of our training examples. We are also going to truncate all of our examples that are beyond 512 tokens. We also need to pad all of our examples that are less than 512 so that our training examples are all the same length"
   ]
  },
  {
   "cell_type": "code",
   "execution_count": 29,
   "id": "5dacd55e",
   "metadata": {},
   "outputs": [],
   "source": [
    "MAX_INPUT_LENGTH = 512\n",
    "MAX_TARGET_LENGTH = 64\n",
    "prefix = 'summarize: '\n",
    "\n",
    "def pre_process(examples):\n",
    "    inputs = [prefix + text for text in examples['story']]\n",
    "    model_inputs = tokenizer(inputs, max_length = MAX_INPUT_LENGTH, truncation=True, padding=True)\n",
    "    \n",
    "    labels = tokenizer(examples['highlight'], max_length = MAX_INPUT_LENGTH, truncation=True, padding=True)\n",
    "    \n",
    "    model_inputs['labels'] = labels['input_ids']\n",
    "    return model_inputs"
   ]
  },
  {
   "cell_type": "markdown",
   "id": "37d79a42",
   "metadata": {},
   "source": [
    "To apply this function to all of our dataset, use the .map method of our Dataset object we created earlier"
   ]
  },
  {
   "cell_type": "code",
   "execution_count": null,
   "id": "837e2372",
   "metadata": {},
   "outputs": [],
   "source": [
    "The quick brown fox jumped over the lazy dog because he had to go to work."
   ]
  },
  {
   "cell_type": "code",
   "execution_count": 30,
   "id": "c5647d06",
   "metadata": {},
   "outputs": [
    {
     "data": {
      "application/vnd.jupyter.widget-view+json": {
       "model_id": "",
       "version_major": 2,
       "version_minor": 0
      },
      "text/plain": [
       "Map:   0%|          | 0/263249 [00:00<?, ? examples/s]"
      ]
     },
     "metadata": {},
     "output_type": "display_data"
    },
    {
     "data": {
      "application/vnd.jupyter.widget-view+json": {
       "model_id": "",
       "version_major": 2,
       "version_minor": 0
      },
      "text/plain": [
       "Map:   0%|          | 0/65813 [00:00<?, ? examples/s]"
      ]
     },
     "metadata": {},
     "output_type": "display_data"
    }
   ],
   "source": [
    "tokenized_dataset = dataset.map(pre_process, batched=True)"
   ]
  },
  {
   "cell_type": "markdown",
   "id": "2e716fa0",
   "metadata": {},
   "source": [
    "Now that our dataset is tokenized, let's do one final bit of postprocessing to prepare it for training.\n",
    "\n",
    "Because the model does not accept raw input as text, we need to remove our \"story\" and \"highlight\" fields from the dataset"
   ]
  },
  {
   "cell_type": "code",
   "execution_count": 31,
   "id": "c1b5fabf",
   "metadata": {},
   "outputs": [],
   "source": [
    "tokenized_dataset = tokenized_dataset.remove_columns(['story', 'highlight'])"
   ]
  },
  {
   "cell_type": "markdown",
   "id": "8c369ddd",
   "metadata": {},
   "source": [
    "We also need to set the dataset to return pytorch tensors instead of lists"
   ]
  },
  {
   "cell_type": "code",
   "execution_count": 32,
   "id": "ddc75f95",
   "metadata": {},
   "outputs": [
    {
     "data": {
      "text/plain": [
       "DatasetDict({\n",
       "    train: Dataset({\n",
       "        features: ['input_ids', 'attention_mask', 'labels'],\n",
       "        num_rows: 263249\n",
       "    })\n",
       "    test: Dataset({\n",
       "        features: ['input_ids', 'attention_mask', 'labels'],\n",
       "        num_rows: 65813\n",
       "    })\n",
       "})"
      ]
     },
     "execution_count": 32,
     "metadata": {},
     "output_type": "execute_result"
    }
   ],
   "source": [
    "tokenized_dataset"
   ]
  },
  {
   "cell_type": "code",
   "execution_count": 33,
   "id": "1fe86f47",
   "metadata": {},
   "outputs": [],
   "source": [
    "tokenized_dataset.set_format('torch')"
   ]
  },
  {
   "cell_type": "markdown",
   "id": "17e5c5d7",
   "metadata": {},
   "source": [
    "Finally, let's split our dataset into separate train and test datasets to send to the model"
   ]
  },
  {
   "cell_type": "code",
   "execution_count": 34,
   "id": "55510932",
   "metadata": {},
   "outputs": [],
   "source": [
    "train_dataset = tokenized_dataset['train']\n",
    "test_dataset = tokenized_dataset['test']"
   ]
  },
  {
   "cell_type": "markdown",
   "id": "46ee8fce",
   "metadata": {},
   "source": [
    "Create Pickle files and save them in your current directory. Our final notebook will use these datasets to train\n",
    "our T5 model for summarization"
   ]
  },
  {
   "cell_type": "code",
   "execution_count": 36,
   "id": "5c7b07ec",
   "metadata": {},
   "outputs": [],
   "source": [
    "train_file = open('train_dataset.pkl', 'wb')\n",
    "test_file = open('test_dataset.pkl', 'wb')\n",
    "\n",
    "pickle.dump(train_dataset, train_file)\n",
    "pickle.dump(test_dataset, test_file)\n",
    "\n",
    "train_file.close()\n",
    "test_file.close()"
   ]
  }
 ],
 "metadata": {
  "kernelspec": {
   "display_name": "Python 3 (ipykernel)",
   "language": "python",
   "name": "python3"
  },
  "language_info": {
   "codemirror_mode": {
    "name": "ipython",
    "version": 3
   },
   "file_extension": ".py",
   "mimetype": "text/x-python",
   "name": "python",
   "nbconvert_exporter": "python",
   "pygments_lexer": "ipython3",
   "version": "3.10.9"
  }
 },
 "nbformat": 4,
 "nbformat_minor": 5
}
